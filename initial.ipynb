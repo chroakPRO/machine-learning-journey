{
 "cells": [
  {
   "cell_type": "markdown",
   "metadata": {},
   "source": [
    "# First Day\n",
    "This is the begginning of my journey inside the world of machine learning. I will be using this notebook to keep track of my progress and to share my knowledge with the world. I will be using the following resources to learn about machine learning: \n",
    "\n",
    "I have learned one thing, adapation is key. If I don't start learning about it soon I will be left behind.\n",
    "\n",
    "## Resources\n",
    "- [ ] [Machine Learning - Learning Resource](https://github.com/karpathy/nn-zero-to-hero)\n",
    "\n"
   ]
  },
  {
   "cell_type": "code",
   "execution_count": 4,
   "metadata": {},
   "outputs": [
    {
     "data": {
      "text/plain": [
       "False"
      ]
     },
     "execution_count": 4,
     "metadata": {},
     "output_type": "execute_result"
    }
   ],
   "source": [
    "# Write a lunh function that checks if a number is a valid credit card number\n",
    "\n",
    "def lunh(number):\n",
    "    number = str(number)\n",
    "    number = number[::-1]\n",
    "    number = list(number)\n",
    "    for i in range(1, len(number), 2):\n",
    "        number[i] = int(number[i]) * 2\n",
    "        if number[i] > 9:\n",
    "            number[i] = number[i] - 9\n",
    "    sum = 0\n",
    "    for i in range(len(number)):\n",
    "        sum = sum + int(number[i])\n",
    "    if sum % 10 == 0:\n",
    "        return True\n",
    "    else:\n",
    "        return False\n",
    "lunh(8539031064535906)"
   ]
  },
  {
   "cell_type": "code",
   "execution_count": null,
   "metadata": {},
   "outputs": [],
   "source": []
  }
 ],
 "metadata": {
  "kernelspec": {
   "display_name": "Python 3.10.6 ('all')",
   "language": "python",
   "name": "python3"
  },
  "language_info": {
   "codemirror_mode": {
    "name": "ipython",
    "version": 3
   },
   "file_extension": ".py",
   "mimetype": "text/x-python",
   "name": "python",
   "nbconvert_exporter": "python",
   "pygments_lexer": "ipython3",
   "version": "3.10.6"
  },
  "orig_nbformat": 4,
  "vscode": {
   "interpreter": {
    "hash": "061e5e5c600069d83976a781d3f4a12d9ce8044ebaa36a3ec800ab4bd12936db"
   }
  }
 },
 "nbformat": 4,
 "nbformat_minor": 2
}
